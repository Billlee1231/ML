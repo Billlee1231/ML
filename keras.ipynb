{
  "nbformat": 4,
  "nbformat_minor": 0,
  "metadata": {
    "colab": {
      "name": "keras.ipynb",
      "version": "0.3.2",
      "provenance": [],
      "include_colab_link": true
    },
    "kernelspec": {
      "name": "python3",
      "display_name": "Python 3"
    }
  },
  "cells": [
    {
      "cell_type": "markdown",
      "metadata": {
        "id": "view-in-github",
        "colab_type": "text"
      },
      "source": [
        "<a href=\"https://colab.research.google.com/github/Billlee1231/ML/blob/master/keras.ipynb\" target=\"_parent\"><img src=\"https://colab.research.google.com/assets/colab-badge.svg\" alt=\"Open In Colab\"/></a>"
      ]
    },
    {
      "metadata": {
        "id": "BbAbIWFSzSD-",
        "colab_type": "text"
      },
      "cell_type": "markdown",
      "source": [
        "Build a simple linear regression model using Keras"
      ]
    },
    {
      "metadata": {
        "id": "caSUoI5XyXrl",
        "colab_type": "code",
        "colab": {}
      },
      "cell_type": "code",
      "source": [
        "import tensorflow as tf\n",
        "from tensorflow.keras import layers\n",
        "import numpy as np"
      ],
      "execution_count": 0,
      "outputs": []
    },
    {
      "metadata": {
        "id": "dhTvycWeybSF",
        "colab_type": "code",
        "colab": {}
      },
      "cell_type": "code",
      "source": [
        "np.random.seed(10)\n",
        "\n",
        "beta = np.transpose(np.array([1.5,2.4,-2.2]))\n",
        "b = 3.33\n",
        "X = np.random.uniform(low=-10,high=10, size=(1000,3))\n",
        "Z = np.random.normal(loc=0, scale=1.0, size=X.shape[0])\n",
        "Y = b+np.matmul(X, beta)+Z"
      ],
      "execution_count": 0,
      "outputs": []
    },
    {
      "metadata": {
        "id": "oZE8q5FF1ECa",
        "colab_type": "code",
        "colab": {
          "base_uri": "https://localhost:8080/",
          "height": 441
        },
        "outputId": "259b443d-0760-4534-e73e-82cb4ae2f2a6"
      },
      "cell_type": "code",
      "source": [
        "model = tf.keras.Sequential()\n",
        "model.add(layers.Dense(1, bias_initializer=tf.keras.initializers.constant(2.0)))\n",
        "model.compile(optimizer=tf.train.AdamOptimizer(0.05), loss=\"mse\", metrics=[\"mae\"])\n",
        "model.fit(X[:700], Y[:700], epochs=10, batch_size=32, validation_data=(X[700:,], Y[700:]))"
      ],
      "execution_count": 41,
      "outputs": [
        {
          "output_type": "stream",
          "text": [
            "Train on 700 samples, validate on 300 samples\n",
            "Epoch 1/10\n",
            "700/700 [==============================] - 0s 482us/step - loss: 173.3219 - mean_absolute_error: 11.1867 - val_loss: 78.6759 - val_mean_absolute_error: 7.5917\n",
            "Epoch 2/10\n",
            "700/700 [==============================] - 0s 44us/step - loss: 43.9866 - mean_absolute_error: 5.6227 - val_loss: 16.0099 - val_mean_absolute_error: 3.3404\n",
            "Epoch 3/10\n",
            "700/700 [==============================] - 0s 47us/step - loss: 7.5576 - mean_absolute_error: 2.1992 - val_loss: 2.0202 - val_mean_absolute_error: 1.1507\n",
            "Epoch 4/10\n",
            "700/700 [==============================] - 0s 45us/step - loss: 1.3348 - mean_absolute_error: 0.9258 - val_loss: 1.0620 - val_mean_absolute_error: 0.8505\n",
            "Epoch 5/10\n",
            "700/700 [==============================] - 0s 53us/step - loss: 1.0619 - mean_absolute_error: 0.8274 - val_loss: 1.0669 - val_mean_absolute_error: 0.8543\n",
            "Epoch 6/10\n",
            "700/700 [==============================] - 0s 50us/step - loss: 1.0639 - mean_absolute_error: 0.8271 - val_loss: 1.0542 - val_mean_absolute_error: 0.8526\n",
            "Epoch 7/10\n",
            "700/700 [==============================] - 0s 44us/step - loss: 1.0620 - mean_absolute_error: 0.8210 - val_loss: 1.0428 - val_mean_absolute_error: 0.8488\n",
            "Epoch 8/10\n",
            "700/700 [==============================] - 0s 52us/step - loss: 1.0593 - mean_absolute_error: 0.8247 - val_loss: 1.0492 - val_mean_absolute_error: 0.8503\n",
            "Epoch 9/10\n",
            "700/700 [==============================] - 0s 49us/step - loss: 1.0582 - mean_absolute_error: 0.8222 - val_loss: 1.0454 - val_mean_absolute_error: 0.8494\n",
            "Epoch 10/10\n",
            "700/700 [==============================] - 0s 44us/step - loss: 1.0683 - mean_absolute_error: 0.8249 - val_loss: 1.0456 - val_mean_absolute_error: 0.8482\n"
          ],
          "name": "stdout"
        },
        {
          "output_type": "execute_result",
          "data": {
            "text/plain": [
              "<tensorflow.python.keras.callbacks.History at 0x7f95a22b5208>"
            ]
          },
          "metadata": {
            "tags": []
          },
          "execution_count": 41
        }
      ]
    },
    {
      "metadata": {
        "id": "QO9UjwWI2srm",
        "colab_type": "code",
        "colab": {
          "base_uri": "https://localhost:8080/",
          "height": 54
        },
        "outputId": "f8e050c8-9eb4-4c81-83f0-82f5904b5b18"
      },
      "cell_type": "code",
      "source": [
        "model.evaluate(X,Y,batch_size=32)"
      ],
      "execution_count": 42,
      "outputs": [
        {
          "output_type": "stream",
          "text": [
            "1000/1000 [==============================] - 0s 31us/step\n"
          ],
          "name": "stdout"
        },
        {
          "output_type": "execute_result",
          "data": {
            "text/plain": [
              "[1.0549246816635132, 0.830829083442688]"
            ]
          },
          "metadata": {
            "tags": []
          },
          "execution_count": 42
        }
      ]
    },
    {
      "metadata": {
        "id": "IzAYBBrJ7ZQf",
        "colab_type": "code",
        "colab": {
          "base_uri": "https://localhost:8080/",
          "height": 182
        },
        "outputId": "bcb527c0-6137-4f66-bca2-9610bde565c4"
      },
      "cell_type": "code",
      "source": [
        "model.summary()"
      ],
      "execution_count": 43,
      "outputs": [
        {
          "output_type": "stream",
          "text": [
            "_________________________________________________________________\n",
            "Layer (type)                 Output Shape              Param #   \n",
            "=================================================================\n",
            "dense_7 (Dense)              multiple                  4         \n",
            "=================================================================\n",
            "Total params: 4\n",
            "Trainable params: 4\n",
            "Non-trainable params: 0\n",
            "_________________________________________________________________\n"
          ],
          "name": "stdout"
        }
      ]
    },
    {
      "metadata": {
        "id": "YXEfJ1aN8Dij",
        "colab_type": "code",
        "colab": {
          "base_uri": "https://localhost:8080/",
          "height": 72
        },
        "outputId": "d9aeee6a-ef63-40d2-a5ba-89038206c41e"
      },
      "cell_type": "code",
      "source": [
        "for layer in model.layers:\n",
        "    weights = layer.get_weights() # list of numpy arrays\n",
        "    print (weights)"
      ],
      "execution_count": 44,
      "outputs": [
        {
          "output_type": "stream",
          "text": [
            "[array([[ 1.4855636],\n",
            "       [ 2.3965683],\n",
            "       [-2.1994267]], dtype=float32), array([3.3091948], dtype=float32)]\n"
          ],
          "name": "stdout"
        }
      ]
    },
    {
      "metadata": {
        "id": "l_ou06fx5Qqd",
        "colab_type": "code",
        "colab": {
          "base_uri": "https://localhost:8080/",
          "height": 365
        },
        "outputId": "b1d55ae3-65b6-467b-961d-f8f2a1d2c583"
      },
      "cell_type": "code",
      "source": [
        "import matplotlib.pyplot as plt\n",
        "Y_hat = model.predict(X[700:], batch_size=32)\n",
        "plt.plot(Y_hat, Y[700:], \"o\")"
      ],
      "execution_count": 45,
      "outputs": [
        {
          "output_type": "execute_result",
          "data": {
            "text/plain": [
              "[<matplotlib.lines.Line2D at 0x7f959efe1be0>]"
            ]
          },
          "metadata": {
            "tags": []
          },
          "execution_count": 45
        },
        {
          "output_type": "display_data",
          "data": {
            "image/png": "[encoded data removed]",
            "text/plain": [
              "<matplotlib.figure.Figure at 0x7f959f2aeb00>"
            ]
          },
          "metadata": {
            "tags": []
          }
        }
      ]
    }
  ]
}