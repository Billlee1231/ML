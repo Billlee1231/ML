{
  "nbformat": 4,
  "nbformat_minor": 0,
  "metadata": {
    "colab": {
      "name": "tensorflow_intro.ipynb",
      "version": "0.3.2",
      "provenance": [],
      "include_colab_link": true
    },
    "kernelspec": {
      "name": "python3",
      "display_name": "Python 3"
    }
  },
  "cells": [
    {
      "cell_type": "markdown",
      "metadata": {
        "id": "view-in-github",
        "colab_type": "text"
      },
      "source": [
        "<a href=\"https://colab.research.google.com/github/Billlee1231/ML/blob/master/tensorflow_intro.ipynb\" target=\"_parent\"><img src=\"https://colab.research.google.com/assets/colab-badge.svg\" alt=\"Open In Colab\"/></a>"
      ]
    },
    {
      "metadata": {
        "id": "5WVT65iGY2Sv",
        "colab_type": "text"
      },
      "cell_type": "markdown",
      "source": [
        "Basic TensorFlow concept"
      ]
    },
    {
      "metadata": {
        "id": "InfyqCLsYuaF",
        "colab_type": "code",
        "colab": {}
      },
      "cell_type": "code",
      "source": [
        "import tensorflow as tf\n",
        "import numpy as np"
      ],
      "execution_count": 0,
      "outputs": []
    },
    {
      "metadata": {
        "id": "B6reqOT4eo_O",
        "colab_type": "text"
      },
      "cell_type": "markdown",
      "source": [
        "**Tensors and Operations**"
      ]
    },
    {
      "metadata": {
        "id": "9JCyzYvbZCF4",
        "colab_type": "code",
        "outputId": "1307537a-048f-4174-82e7-953c1c49f2e1",
        "colab": {
          "base_uri": "https://localhost:8080/",
          "height": 72
        }
      },
      "cell_type": "code",
      "source": [
        "a = tf.constant(3.0, dtype=tf.float32)\n",
        "b = tf.constant(4.0) # also tf.float32 implicitly\n",
        "total = a + b\n",
        "print(a)\n",
        "print(b)\n",
        "print(total)"
      ],
      "execution_count": 0,
      "outputs": [
        {
          "output_type": "stream",
          "text": [
            "Tensor(\"Const:0\", shape=(), dtype=float32)\n",
            "Tensor(\"Const_1:0\", shape=(), dtype=float32)\n",
            "Tensor(\"add:0\", shape=(), dtype=float32)\n"
          ],
          "name": "stdout"
        }
      ]
    },
    {
      "metadata": {
        "id": "d6AqS2fyaYQv",
        "colab_type": "code",
        "outputId": "bc15a519-c47a-4061-9c94-733374e7db0e",
        "colab": {
          "base_uri": "https://localhost:8080/",
          "height": 35
        }
      },
      "cell_type": "code",
      "source": [
        "sess = tf.Session()\n",
        "print (sess.run(total))"
      ],
      "execution_count": 0,
      "outputs": [
        {
          "output_type": "stream",
          "text": [
            "7.0\n"
          ],
          "name": "stdout"
        }
      ]
    },
    {
      "metadata": {
        "id": "0YpHMZEkeg8t",
        "colab_type": "text"
      },
      "cell_type": "markdown",
      "source": [
        "**TensorBoard**"
      ]
    },
    {
      "metadata": {
        "id": "rrMhJsqlZV_u",
        "colab_type": "code",
        "colab": {}
      },
      "cell_type": "code",
      "source": [
        "# cannot see event file???\n",
        "writer = tf.summary.FileWriter('.')\n",
        "writer.add_graph(tf.get_default_graph())\n",
        "writer.flush()"
      ],
      "execution_count": 0,
      "outputs": []
    },
    {
      "metadata": {
        "id": "RGaqTB-9eYFR",
        "colab_type": "text"
      },
      "cell_type": "markdown",
      "source": [
        "**dataset**"
      ]
    },
    {
      "metadata": {
        "id": "aDlO0gwbdUjK",
        "colab_type": "code",
        "outputId": "45e25471-954f-4978-d6bf-5e3d82782a01",
        "colab": {
          "base_uri": "https://localhost:8080/",
          "height": 90
        }
      },
      "cell_type": "code",
      "source": [
        "my_data = [\n",
        "    [0, 1,],\n",
        "    [2, 3,],\n",
        "    [4, 5,],\n",
        "    [6, 7,],\n",
        "]\n",
        "slices = tf.data.Dataset.from_tensor_slices(my_data)\n",
        "next_item = slices.make_one_shot_iterator().get_next()\n",
        "\n",
        "while True:\n",
        "  try:\n",
        "    print(sess.run(next_item))\n",
        "  except tf.errors.OutOfRangeError:\n",
        "    break"
      ],
      "execution_count": 0,
      "outputs": [
        {
          "output_type": "stream",
          "text": [
            "[0 1]\n",
            "[2 3]\n",
            "[4 5]\n",
            "[6 7]\n"
          ],
          "name": "stdout"
        }
      ]
    },
    {
      "metadata": {
        "id": "e6gkbE8MeOxz",
        "colab_type": "code",
        "outputId": "f4302339-87e7-485c-9f1c-ebea5d8512c1",
        "colab": {
          "base_uri": "https://localhost:8080/",
          "height": 201
        }
      },
      "cell_type": "code",
      "source": [
        "r = tf.random_normal([10,3])\n",
        "dataset = tf.data.Dataset.from_tensor_slices(r)\n",
        "iterator = dataset.make_initializable_iterator()\n",
        "next_row = iterator.get_next()\n",
        "\n",
        "sess.run(iterator.initializer)\n",
        "while True:\n",
        "  try:\n",
        "    print(sess.run(next_row))\n",
        "  except tf.errors.OutOfRangeError:\n",
        "    break"
      ],
      "execution_count": 0,
      "outputs": [
        {
          "output_type": "stream",
          "text": [
            "[-1.9116623  -0.47179765 -0.62457204]\n",
            "[-1.2452114   1.2570441   0.04676733]\n",
            "[ 1.6144222  -0.36838436 -2.262906  ]\n",
            "[-0.63129663  0.7299787   1.4130275 ]\n",
            "[-0.5769519  -0.24900801  1.6762766 ]\n",
            "[ 0.74812263  0.27347195 -0.3603969 ]\n",
            "[ 0.47334146 -1.0608655   0.2125263 ]\n",
            "[-0.7156164  -0.22963569 -0.46340266]\n",
            "[ 0.6604131   0.13935214 -0.37043443]\n",
            "[ 0.7745225  -0.99507105 -0.32271618]\n"
          ],
          "name": "stdout"
        }
      ]
    },
    {
      "metadata": {
        "id": "l2nuP5XBkNYy",
        "colab_type": "text"
      },
      "cell_type": "markdown",
      "source": [
        "**Layers**"
      ]
    },
    {
      "metadata": {
        "id": "Ix2bw9GCkPG1",
        "colab_type": "code",
        "outputId": "5c1b2b41-fe79-40cb-fb60-f1ba91cbe746",
        "colab": {
          "base_uri": "https://localhost:8080/",
          "height": 54
        }
      },
      "cell_type": "code",
      "source": [
        "x = tf.placeholder(tf.float32, shape=[None, 3])\n",
        "linear_model = tf.layers.Dense(units=1)\n",
        "y = linear_model(x)\n",
        "\n",
        "init = tf.global_variables_initializer()\n",
        "sess.run(init)\n",
        "\n",
        "print(sess.run(y, {x: [[1, 2, 3],[4, 5, 6]]}))"
      ],
      "execution_count": 0,
      "outputs": [
        {
          "output_type": "stream",
          "text": [
            "[[2.6343966]\n",
            " [3.5561745]]\n"
          ],
          "name": "stdout"
        }
      ]
    },
    {
      "metadata": {
        "id": "UsDhm27bncoH",
        "colab_type": "text"
      },
      "cell_type": "markdown",
      "source": [
        "**Feature Columns**"
      ]
    },
    {
      "metadata": {
        "id": "jBRLhmlTnfsO",
        "colab_type": "code",
        "outputId": "f2296131-340a-41c8-fa84-eb8638e56778",
        "colab": {
          "base_uri": "https://localhost:8080/",
          "height": 92
        }
      },
      "cell_type": "code",
      "source": [
        "features = {\n",
        "    'sales' : [[5], [10], [8], [9]],\n",
        "    'department': ['sports', 'sports', 'gardening', 'gardening']}\n",
        "\n",
        "department_column = tf.feature_column.categorical_column_with_vocabulary_list(\n",
        "        'department', ['sports', 'gardening'])\n",
        "department_column = tf.feature_column.indicator_column(department_column)\n",
        "\n",
        "columns = [\n",
        "    tf.feature_column.numeric_column('sales'),\n",
        "    department_column\n",
        "]\n",
        "\n",
        "inputs = tf.feature_column.input_layer(features, columns)"
      ],
      "execution_count": 0,
      "outputs": [
        {
          "output_type": "stream",
          "text": [
            "WARNING:tensorflow:From /usr/local/lib/python3.6/dist-packages/tensorflow/python/ops/sparse_ops.py:1165: sparse_to_dense (from tensorflow.python.ops.sparse_ops) is deprecated and will be removed in a future version.\n",
            "Instructions for updating:\n",
            "Create a `tf.sparse.SparseTensor` and use `tf.sparse.to_dense` instead.\n"
          ],
          "name": "stdout"
        }
      ]
    },
    {
      "metadata": {
        "id": "guBPaNOInk7K",
        "colab_type": "code",
        "outputId": "bd0f36ce-e685-40ab-bf04-97749bc1d3c8",
        "colab": {
          "base_uri": "https://localhost:8080/",
          "height": 35
        }
      },
      "cell_type": "code",
      "source": [
        "var_init = tf.global_variables_initializer()\n",
        "table_init = tf.tables_initializer()\n",
        "sess = tf.Session()\n",
        "sess.run((var_init, table_init))"
      ],
      "execution_count": 0,
      "outputs": [
        {
          "output_type": "execute_result",
          "data": {
            "text/plain": [
              "(None, None)"
            ]
          },
          "metadata": {
            "tags": []
          },
          "execution_count": 17
        }
      ]
    },
    {
      "metadata": {
        "id": "gxDeny4qnnjq",
        "colab_type": "code",
        "outputId": "549cdcbc-7fb2-4bb6-f4d3-74d20d980061",
        "colab": {
          "base_uri": "https://localhost:8080/",
          "height": 90
        }
      },
      "cell_type": "code",
      "source": [
        "print(sess.run(inputs))"
      ],
      "execution_count": 0,
      "outputs": [
        {
          "output_type": "stream",
          "text": [
            "[[ 1.  0.  5.]\n",
            " [ 1.  0. 10.]\n",
            " [ 0.  1.  8.]\n",
            " [ 0.  1.  9.]]\n"
          ],
          "name": "stdout"
        }
      ]
    },
    {
      "metadata": {
        "id": "7YmJH1JeqfnV",
        "colab_type": "text"
      },
      "cell_type": "markdown",
      "source": [
        "**Training**"
      ]
    },
    {
      "metadata": {
        "id": "cPzUYGuYqhRM",
        "colab_type": "code",
        "outputId": "1c0f61c8-da4e-4aaf-861a-3cde68e4a630",
        "colab": {
          "base_uri": "https://localhost:8080/",
          "height": 274
        }
      },
      "cell_type": "code",
      "source": [
        "x = tf.constant([[1], [2], [3], [4]], dtype=tf.float32)\n",
        "y_true = tf.constant([[0], [-1], [-2], [-3]], dtype=tf.float32)\n",
        "\n",
        "linear_model = tf.layers.Dense(units=1)\n",
        "\n",
        "y_pred = linear_model(x)\n",
        "loss = tf.losses.mean_squared_error(labels=y_true, predictions=y_pred)\n",
        "\n",
        "optimizer = tf.train.GradientDescentOptimizer(0.01)\n",
        "train = optimizer.minimize(loss)\n",
        "\n",
        "init = tf.global_variables_initializer()\n",
        "\n",
        "sess = tf.Session()\n",
        "sess.run(init)\n",
        "for i in range(1000):\n",
        "  _, loss_value = sess.run((train, loss))\n",
        "  if i % 100==0:\n",
        "    print(loss_value)\n",
        "\n",
        "print(sess.run(y_pred))"
      ],
      "execution_count": 0,
      "outputs": [
        {
          "output_type": "stream",
          "text": [
            "0.58997655\n",
            "0.07853598\n",
            "0.04311534\n",
            "0.023669798\n",
            "0.012994421\n",
            "0.0071337856\n",
            "0.003916354\n",
            "0.0021500345\n",
            "0.0011803441\n",
            "0.0006479944\n",
            "[[-0.03045505]\n",
            " [-1.0147576 ]\n",
            " [-1.9990602 ]\n",
            " [-2.9833627 ]]\n"
          ],
          "name": "stdout"
        }
      ]
    }
  ]
}